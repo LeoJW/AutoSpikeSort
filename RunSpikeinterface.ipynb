{
 "cells": [
  {
   "cell_type": "code",
   "execution_count": null,
   "metadata": {},
   "outputs": [],
   "source": [
    "# Spikeinterface imports (could do this cleaner, oh well)\n",
    "import spikeinterface as si\n",
    "import spikeinterface.extractors as se\n",
    "import spikeinterface.sorters as ss\n",
    "import spikeinterface.preprocessing as spre\n",
    "import spikeinterface.exporters as sxp\n",
    "import spikeinterface.widgets as sw\n",
    "import probeinterface as pi\n",
    "import spikeinterface.curation as scur\n",
    "\n",
    "# Core python imports\n",
    "import os\n",
    "import time as pytime\n",
    "from IPython.display import Audio\n",
    "import numpy as np\n",
    "import matplotlib.pyplot as plt"
   ]
  },
  {
   "cell_type": "markdown",
   "metadata": {},
   "source": [
    "### Read in data, attach probe file to recording"
   ]
  },
  {
   "cell_type": "code",
   "execution_count": null,
   "metadata": {
    "scrolled": false
   },
   "outputs": [],
   "source": [
    "## If reading series of intan recordings\n",
    "rec_name = 'my_recording_name'\n",
    "path_to_folder = os.path.normpath('C:/Users/myLogin42069/Documents/my_experiment/my_trial/' + rec_name)\n",
    "dircontents = os.listdir(path_to_folder)\n",
    "file_names = [x for x in dircontents if '.rhd' in x]\n",
    "# Make sure arranged in correct order\n",
    "def extract_number(name):\n",
    "    return int(name.split('_')[-1].split('.')[0])\n",
    "file_names = sorted(file_names, key=extract_number)\n",
    "recording_list = []\n",
    "for file in file_names:\n",
    "    path_to_file = os.path.join(path_to_folder, file)\n",
    "    recording_list.append(se.IntanRecordingExtractor(path_to_file, stream_id='0'))\n",
    "recording = si.concatenate_recordings(recording_list)\n",
    "display(recording)\n",
    "\n",
    "## Uncomment to grab just a section of a recording\n",
    "# recording = recording.frame_slice(start_frame=0, end_frame=int(231*30000))\n",
    "\n",
    "## If reading open ephys recording session\n",
    "# path_to_folder = Path('C:/Users/myLogin42069/Documents/my_experiment/my_trial/')\n",
    "# recording = se.read_openephys(path_to_folder, block_index=0, stream_id='0')\n",
    "# recording = si.SelectSegmentRecording(recording, 0)"
   ]
  },
  {
   "cell_type": "code",
   "execution_count": null,
   "metadata": {},
   "outputs": [],
   "source": [
    "# Remove analog input channels if present, not needed for spike sorting\n",
    "if any('ADC' in s for s in recording.get_channel_ids()):  \n",
    "    recording = recording.remove_channels([x for x in recording.get_channel_ids() if 'ADC' in x])\n",
    "recording.get_channel_ids()"
   ]
  },
  {
   "cell_type": "code",
   "execution_count": null,
   "metadata": {},
   "outputs": [],
   "source": [
    "probe = pi.read_probeinterface('A32_A1x32-Poly5-6mm-35s-100.json')\n",
    "pi.plotting.plot_probe_group(probe, with_channel_index=True, with_device_index=True)\n",
    "recording.set_probe(probe.probes[0], in_place=True)\n",
    "recording.get_probe()"
   ]
  },
  {
   "cell_type": "markdown",
   "metadata": {},
   "source": [
    "### Preprocess: filter and z-score data\n",
    "\n",
    "If using mountainsort5, filter then zscore with mean+std recommended.\n",
    "Whitening is not a good idea if channels are too physically close and highly correlated, but mountainsort5 expects unit variance so zscoring is essential"
   ]
  },
  {
   "cell_type": "code",
   "execution_count": null,
   "metadata": {},
   "outputs": [],
   "source": [
    "recording_filter = spre.bandpass_filter(recording, freq_min=300, freq_max=5000)\n",
    "recording_zscore = spre.zscore(recording_filter, mode='mean+std')"
   ]
  },
  {
   "cell_type": "markdown",
   "metadata": {},
   "source": [
    "## Run Sorter \n",
    "(Mountainsort5 in particular)"
   ]
  },
  {
   "cell_type": "code",
   "execution_count": null,
   "metadata": {},
   "outputs": [],
   "source": [
    "ss.available_sorters()"
   ]
  },
  {
   "cell_type": "code",
   "execution_count": null,
   "metadata": {
    "scrolled": false
   },
   "outputs": [],
   "source": [
    "sorter = 'mountainsort5'\n",
    "print(ss.get_default_sorter_params(sorter))\n",
    "ss.get_sorter_params_description(sorter)"
   ]
  },
  {
   "cell_type": "code",
   "execution_count": null,
   "metadata": {
    "scrolled": true
   },
   "outputs": [],
   "source": [
    "params = ss.get_default_sorter_params(sorter)\n",
    "params['scheme'] = '2'\n",
    "# Parameters for any scheme\n",
    "params['detect_sign'] = 1\n",
    "params['detect_threshold'] = 4.0\n",
    "params['snippet_T1'] = 40\n",
    "params['snippet_T2'] = 40\n",
    "params['npca_per_channel'] = 4\n",
    "params['npca_per_subdivision'] = 20\n",
    "# Parameters for scheme 2\n",
    "params['scheme2_phase1_detect_channel_radius'] = 150\n",
    "params['snippet_mask_radius'] = 200\n",
    "params['scheme2_training_duration_sec'] = 400\n",
    "params['scheme2_max_num_snippets_per_training_batch'] = 10000\n",
    "# Parameters for scheme 3\n",
    "params['scheme3_block_duration_sec'] = 600\n",
    "\n",
    "tic = pytime.perf_counter()\n",
    "sort = ss.run_sorter(\n",
    "    sorter,\n",
    "    recording=recording_zscore,\n",
    "    output_folder=sorter,\n",
    "    verbose=False,\n",
    "    **params)\n",
    "print(f'{pytime.perf_counter()-tic} seconds elapsed')\n",
    "print(sort)\n",
    "pytime.sleep(1)\n",
    "Audio('notification-sound.wav', autoplay=True)"
   ]
  },
  {
   "cell_type": "markdown",
   "metadata": {},
   "source": [
    "### Create sortinganalyzer"
   ]
  },
  {
   "cell_type": "code",
   "execution_count": null,
   "metadata": {},
   "outputs": [],
   "source": [
    "job_kwargs = dict(n_jobs=8, chunk_duration=\"1s\", progress_bar=True)\n",
    "analyzer = si.create_sorting_analyzer(sorting=sort, recording=recording_zscore, **job_kwargs)\n",
    "analyzer.compute(['random_spikes', 'waveforms', 'templates', 'unit_locations'], **job_kwargs)"
   ]
  },
  {
   "cell_type": "markdown",
   "metadata": {},
   "source": [
    "### Save to Phy"
   ]
  },
  {
   "cell_type": "code",
   "execution_count": null,
   "metadata": {
    "scrolled": true
   },
   "outputs": [],
   "source": [
    "phy_save_path = './phy_folder/' + sorter + '_' + rec_name\n",
    "sxp.export_to_phy(sorting_analyzer=analyzer, output_folder=phy_save_path, remove_if_exists=True, **job_kwargs)\n",
    "# Save record of params\n",
    "with open(phy_save_path+'/params_log.txt', 'w') as f: \n",
    "    for key, value in params.items(): \n",
    "        f.write('%s:%s\\n' % (key, value))"
   ]
  },
  {
   "cell_type": "markdown",
   "metadata": {},
   "source": [
    " To run Phy, use cmd or Powershell, and do one of the following:\n",
    " \n",
    " 1. Run the command spit out by the cell above, often something like:\n",
    " \n",
    " ```phy template-gui  C:\\Users\\lwood39\\Documents\\AutoSpikeSort\\phy_folder\\mountainsort5_poke1_230520_153135\\params.py```\n",
    " \n",
    " \n",
    " 2. Navigate to phy_folder created by the above cell, then run phy command\n",
    " \n",
    " Example:\n",
    " \n",
    " ```cd C:/Users/lwood39/Documents/AutoSpikeSort/phy_folder_kilosort```\n",
    " \n",
    " ```phy template-gui params.py```\n",
    " "
   ]
  },
  {
   "cell_type": "markdown",
   "metadata": {},
   "source": [
    "# Further plotting or exploration:"
   ]
  },
  {
   "cell_type": "code",
   "execution_count": null,
   "metadata": {},
   "outputs": [],
   "source": [
    "# To plot traces straight:\n",
    "# sw.plot_timeseries(\n",
    "#     recording_cache_raw, \n",
    "#     time_range=(69, 420), \n",
    "#     channel_ids=['0'], \n",
    "#     return_scaled=True)\n",
    "# plt.show()\n",
    "\n",
    "# To get traces of a specific channel from specific frames:\n",
    "# data = recording_cache_raw.get_traces(\n",
    "#     start_frame=your_start_frame_here, \n",
    "#     end_frame=your_end_frame_here,\n",
    "#     return_scaled=True, \n",
    "#     channel_ids=['3'])"
   ]
  }
 ],
 "metadata": {
  "kernelspec": {
   "display_name": "Python 3 (ipykernel)",
   "language": "python",
   "name": "python3"
  },
  "language_info": {
   "codemirror_mode": {
    "name": "ipython",
    "version": 3
   },
   "file_extension": ".py",
   "mimetype": "text/x-python",
   "name": "python",
   "nbconvert_exporter": "python",
   "pygments_lexer": "ipython3",
   "version": "3.9.12"
  },
  "vscode": {
   "interpreter": {
    "hash": "7ea45a68df6c081ed75564725b0d139197db1d4205c00e9c49160b50bc65c42b"
   }
  }
 },
 "nbformat": 4,
 "nbformat_minor": 2
}
